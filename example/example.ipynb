{
 "cells": [
  {
   "cell_type": "code",
   "execution_count": 11,
   "metadata": {},
   "outputs": [],
   "source": [
    "import os\n",
    "import sys\n",
    "\n",
    "parent_dir = os.path.dirname(os.path.realpath(\".\"))\n",
    "sys.path.append(parent_dir)\n"
   ]
  },
  {
   "cell_type": "markdown",
   "metadata": {},
   "source": [
    "## Example of execution\n",
    "#### Within this document you will see examples of the executions of the pipeline and how to assess a pdf's (paper's) Bidirectionality and Unidirectionality"
   ]
  },
  {
   "cell_type": "code",
   "execution_count": 16,
   "metadata": {},
   "outputs": [
    {
     "name": "stdout",
     "output_type": "stream",
     "text": [
      "here is the metadata that it extracts:\n",
      "-Title: Association of genomic subtypes of lower-grade gliomas with shape features automatically extracted by a deep learning algorithm\n",
      "-Doi: 10.1016/j.compbiomed.2019.05.002\n",
      "-Arxiv: 1906.03720\n"
     ]
    }
   ],
   "source": [
    "# Lets start by first obtaining the metadata of the doi\n",
    "import sys\n",
    "\n",
    "sys.path.append('../object_creator')\n",
    "\n",
    "doi = \"10.1016/j.compbiomed.2019.05.002\"\n",
    "\n",
    "# This doi can be used to create a metadata (fetched) obj.\n",
    "\n",
    "from object_creator.doi_to_metadata import *\n",
    "\n",
    "meta = doi_to_metadataObj(doi=doi)\n",
    "\n",
    "#doi_to_metadataObj takes a doi, queries OpenAlex and creates a Metadata Obj: Title, doi, arxiv\n",
    "print(\"here is the metadata that it extracts:\")\n",
    "print(\"-Title: \" + meta.title)\n",
    "print(\"-Doi: \" +meta.doi)\n",
    "print(\"-Arxiv: \" +meta.arxiv)"
   ]
  },
  {
   "cell_type": "code",
   "execution_count": 17,
   "metadata": {},
   "outputs": [
    {
     "name": "stdout",
     "output_type": "stream",
     "text": [
      "Example of object to dict function\n",
      "{'title': 'Association of genomic subtypes of lower-grade gliomas with shape features automatically extracted by a deep learning algorithm', 'doi': '10.1016/j.compbiomed.2019.05.002', 'arxiv': '1906.03720'}\n",
      "\n",
      "\n",
      "Here is an example:\n",
      "{'10.1016/j.compbiomed.2019.05.002': {'title': 'Association of genomic subtypes of lower-grade gliomas with shape features automatically extracted by a deep learning algorithm', 'doi': '10.1016/j.compbiomed.2019.05.002', 'arxiv': '1906.03720'}}\n"
     ]
    }
   ],
   "source": [
    "#All objects can be converted to a dictionary as seen:\n",
    "print(\"Example of object to dict function\")\n",
    "print(str(meta.to_dict()))\n",
    "\n",
    "#But there is a function for each object that creates a dictionary to be converted to JSON\n",
    "#Key being the doi\n",
    "#Value being the obj to dictionary\n",
    "print(\"\\n\")\n",
    "print(\"Here is an example:\")\n",
    "dict = metadataObj_to_metadataDict(meta)\n",
    "print(dict)\n"
   ]
  },
  {
   "cell_type": "markdown",
   "metadata": {},
   "source": [
    "Once the metadata has been obtained. You will need to download the pdf to which the doi pertains to.\n",
    "\n",
    "We store this information as a DownloadedObj."
   ]
  },
  {
   "cell_type": "code",
   "execution_count": 22,
   "metadata": {},
   "outputs": [
    {
     "name": "stdout",
     "output_type": "stream",
     "text": [
      "./PDFs/10-DOT-1016_j-DOT-compbiomed-DOT-2019-DOT-05-DOT-002.pdf\n",
      "10-DOT-1016_j-DOT-compbiomed-DOT-2019-DOT-05-DOT-002.pdf\n"
     ]
    }
   ],
   "source": [
    "from object_creator.create_downloadedObj import * \n",
    "\n",
    "#We can take the previously created metadataObj to create the downloaded Obj\n",
    "\n",
    "dwnldd = meta_to_dwnldd(metadataObj=meta,output_dir=\".\")\n",
    "\n",
    "#This will download the pdf into a PDFs directory (will be made if it does not exist)\n",
    "\n",
    "#The metadata is the same as metaObj although now has the file_name and the file_path, filename is a modification on the DOI\n",
    "\n",
    "print(dwnldd.file_path)\n",
    "print(dwnldd.file_name)\n",
    "\n",
    "\n",
    "#This object also has the same .to_dict() function and another dictionary function to create a dict for JSON\n"
   ]
  }
 ],
 "metadata": {
  "kernelspec": {
   "display_name": "require",
   "language": "python",
   "name": "python3"
  },
  "language_info": {
   "codemirror_mode": {
    "name": "ipython",
    "version": 3
   },
   "file_extension": ".py",
   "mimetype": "text/x-python",
   "name": "python",
   "nbconvert_exporter": "python",
   "pygments_lexer": "ipython3",
   "version": "3.10.12"
  },
  "orig_nbformat": 4
 },
 "nbformat": 4,
 "nbformat_minor": 2
}
