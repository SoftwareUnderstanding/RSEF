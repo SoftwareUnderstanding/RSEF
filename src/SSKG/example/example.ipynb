{
 "cells": [
  {
   "cell_type": "code",
   "execution_count": 1,
   "metadata": {},
   "outputs": [],
   "source": [
    "import os\n",
    "import sys\n",
    "\n",
    "parent_dir = os.path.dirname(os.path.realpath(\".\"))\n",
    "sys.path.append(parent_dir)\n"
   ]
  },
  {
   "cell_type": "markdown",
   "metadata": {},
   "source": [
    "## Breakdown of pipeline\n",
    "#### Within this document you will see examples of the executions of the pipeline and how to assess a pdf's (paper's) Bidirectionality and Unidirectionality"
   ]
  },
  {
   "cell_type": "code",
   "execution_count": 2,
   "metadata": {},
   "outputs": [
    {
     "name": "stdout",
     "output_type": "stream",
     "text": [
      "here is the metadata that it extracts:\n",
      "-Title: Association of genomic subtypes of lower-grade gliomas with shape features automatically extracted by a deep learning algorithm\n",
      "-Doi: 10.1016/j.compbiomed.2019.05.002\n",
      "-Arxiv: 1906.03720\n"
     ]
    }
   ],
   "source": [
    "# Lets start by first obtaining the metadata of the doi\n",
    "import sys\n",
    "\n",
    "sys.path.append('../object_creator')\n",
    "\n",
    "doi = \"10.1016/j.compbiomed.2019.05.002\"\n",
    "\n",
    "# This doi can be used to create a metadata (fetched) obj.\n",
    "\n",
    "from object_creator.doi_to_metadata import *\n",
    "\n",
    "meta = doi_to_metadataObj(doi=doi)\n",
    "\n",
    "#doi_to_metadataObj takes a doi, queries OpenAlex and creates a Metadata Obj: Title, doi, arxiv\n",
    "print(\"here is the metadata that it extracts:\")\n",
    "print(\"-Title: \" + meta.title)\n",
    "print(\"-Doi: \" +   meta.doi)\n",
    "print(\"-Arxiv: \" + meta.arxiv)"
   ]
  },
  {
   "cell_type": "code",
   "execution_count": 3,
   "metadata": {},
   "outputs": [
    {
     "name": "stdout",
     "output_type": "stream",
     "text": [
      "Example of object to dict function\n",
      "{'title': 'Association of genomic subtypes of lower-grade gliomas with shape features automatically extracted by a deep learning algorithm', 'doi': '10.1016/j.compbiomed.2019.05.002', 'arxiv': '1906.03720'}\n",
      "\n",
      "\n",
      "Here is an example:\n",
      "{'10.1016/j.compbiomed.2019.05.002': {'title': 'Association of genomic subtypes of lower-grade gliomas with shape features automatically extracted by a deep learning algorithm', 'doi': '10.1016/j.compbiomed.2019.05.002', 'arxiv': '1906.03720'}}\n"
     ]
    }
   ],
   "source": [
    "#All objects can be converted to a dictionary as seen:\n",
    "print(\"Example of object to dict function\")\n",
    "print(str(meta.to_dict()))\n",
    "\n",
    "#But there is a function for each object that creates a dictionary to be converted to JSON\n",
    "#Key being the doi\n",
    "#Value being the obj to dictionary\n",
    "print(\"\\n\")\n",
    "print(\"Here is an example:\")\n",
    "dict = metadataObj_to_metadataDict(meta)\n",
    "print(dict)\n"
   ]
  },
  {
   "cell_type": "markdown",
   "metadata": {},
   "source": [
    "<h4>Once the metadata has been obtained. You will need to download the pdf to which the doi pertains to.__\n",
    "\n",
    "We store this information as a DownloadedObj.</h4>"
   ]
  },
  {
   "cell_type": "code",
   "execution_count": 4,
   "metadata": {},
   "outputs": [
    {
     "name": "stdout",
     "output_type": "stream",
     "text": [
      "File path to the pdf:\n",
      "./PDFs/10-DOT-1016_j-DOT-compbiomed-DOT-2019-DOT-05-DOT-002.pdf\n",
      "File name of the pdf:\n",
      "10-DOT-1016_j-DOT-compbiomed-DOT-2019-DOT-05-DOT-002.pdf\n"
     ]
    }
   ],
   "source": [
    "from object_creator.create_downloadedObj import * \n",
    "\n",
    "#We can take the previously created metadataObj to create the downloaded Obj\n",
    "\n",
    "dwnldd = meta_to_dwnldd(metadataObj=meta,output_dir=\".\")\n",
    "\n",
    "#This will download the pdf into a PDFs directory (will be made if it does not exist)\n",
    "\n",
    "#The metadata is the same as metaObj although now has the file_name and the file_path, filename is a modification on the DOI\n",
    "print(\"File path to the pdf:\")\n",
    "print(dwnldd.file_path)\n",
    "print(\"File name of the pdf:\")\n",
    "print(dwnldd.file_name)\n",
    "\n",
    "\n",
    "#This object also has the same .to_dict() function and another dictionary function to create a dict for JSON\n",
    "\n"
   ]
  },
  {
   "cell_type": "markdown",
   "metadata": {},
   "source": [
    "<h4> Now that we have the Pdfs downloaded we can now extract the urls within the pdfs </h4>"
   ]
  },
  {
   "cell_type": "code",
   "execution_count": 5,
   "metadata": {},
   "outputs": [
    {
     "name": "stdout",
     "output_type": "stream",
     "text": [
      "The code_urls are a list of pairs, each pair being a url and the number of times it has been mentioned\n",
      "[('https://github.com/mateuszbuda/brain-segmentation', 2)]\n",
      "They are ordered by frequency\n"
     ]
    }
   ],
   "source": [
    "from object_creator.downloaded_to_paperObj import * \n",
    "\n",
    "processed = downloaded_to_paperObj(downloadedObj=dwnldd)\n",
    "\n",
    "#When creating a processed (paperObj) we open the pdf and scan it for the urls using tika\n",
    "\n",
    "print(\"The code_urls are a list of pairs, each pair being a url and the number of times it has been mentioned\")\n",
    "print(processed.code_urls)\n",
    "print(\"They are ordered by frequency\")"
   ]
  },
  {
   "cell_type": "code",
   "execution_count": 7,
   "metadata": {},
   "outputs": [],
   "source": [
    "#PaperObjs like all other objects can be turned to jsons like seen below:\n",
    "\n",
    "pp_dic = paperObj_ppDict(processed)\n",
    "\n",
    "papers_json = pp_dic_to_json(pp_dic=pp_dic,output_dir=\"../example\")\n",
    "\n"
   ]
  },
  {
   "cell_type": "markdown",
   "metadata": {},
   "source": [
    "<h4>The creation of these jsons will allow you to fragment the pipeline to your liking.\n",
    "</h4>\n",
    "<h4>\n",
    "Now that we have a paperObj (Processed) we can now assess its bidirectionality or unidirectionality\n",
    "</h4>"
   ]
  },
  {
   "cell_type": "code",
   "execution_count": 10,
   "metadata": {},
   "outputs": [
    {
     "name": "stdout",
     "output_type": "stream",
     "text": [
      "Already created a file: ../example/JSONs/mateuszbuda_brain-segmentation.json\n",
      "{'10.1016/j.compbiomed.2019.05.002': ['https://github.com/mateuszbuda/brain-segmentation']}\n"
     ]
    }
   ],
   "source": [
    "from object_creator.pipeline import * \n",
    "\n",
    "#Now that we have a paper obj we can assess its bidirectionality\n",
    "\n",
    "bidir = from_papers_json_to_bidir(papers_json, output_dir=\"../example\")\n",
    "\n",
    "#Where a dictionary is created per bidirectional doi/ID \n",
    "# its K: being the doi of the paper\n",
    "# its V: being all the code_urls that are bidirectional"
   ]
  }
 ],
 "metadata": {
  "kernelspec": {
   "display_name": "require",
   "language": "python",
   "name": "python3"
  },
  "language_info": {
   "codemirror_mode": {
    "name": "ipython",
    "version": 3
   },
   "file_extension": ".py",
   "mimetype": "text/x-python",
   "name": "python",
   "nbconvert_exporter": "python",
   "pygments_lexer": "ipython3",
   "version": "3.10.12"
  },
  "orig_nbformat": 4
 },
 "nbformat": 4,
 "nbformat_minor": 2
}
